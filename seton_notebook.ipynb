{
 "cells": [
  {
   "cell_type": "code",
   "execution_count": 1,
   "metadata": {},
   "outputs": [],
   "source": [
    "from utils.chrome import Chrome\n",
    "from datetime import datetime, timedelta\n",
    "from selenium.webdriver.common.by import By\n",
    "from selenium.webdriver.support.ui import WebDriverWait\n",
    "from selenium.webdriver.support import expected_conditions as EC\n",
    "from utils.consts import DICT_ELEMENTOS, ceps\n",
    "from selenium.webdriver.common.keys import Keys\n",
    "from time import sleep\n",
    "import pandas as pd\n",
    "import re"
   ]
  },
  {
   "cell_type": "code",
   "execution_count": 3,
   "metadata": {},
   "outputs": [],
   "source": [
    "def check_cart(driver):\n",
    "    try:\n",
    "        driver.get(\"https://www.seton.com.br/checkout/cart/\")\n",
    "        delete_item = WebDriverWait(driver, 10).until(EC.element_to_be_clickable((By.CSS_SELECTOR, \".block-remove\")))\n",
    "        delete_item.click()\n",
    "    except:\n",
    "        print(\"Carrinho vazio\")"
   ]
  },
  {
   "cell_type": "code",
   "execution_count": 4,
   "metadata": {},
   "outputs": [],
   "source": [
    "def add_cart(driver):\n",
    "    try:\n",
    "        element_add = WebDriverWait(driver, 10).until(EC.presence_of_element_located((By.CSS_SELECTOR, \".button.btn-cart\")))\n",
    "        element_add.click()\n",
    "        driver.get(\"https://www.seton.com.br/checkout/cart/\")\n",
    "    except Exception as e:\n",
    "        print(\"Produto Indisponível\")"
   ]
  },
  {
   "cell_type": "code",
   "execution_count": 7,
   "metadata": {},
   "outputs": [],
   "source": [
    "def change_quantity(driver, encomenda, i):\n",
    "    sleep(2)\n",
    "    encomenda['CD_EMB'] = encomenda['QT_MED_INSUMO'].fillna('1')\n",
    "    quantity_table = int(encomenda['QT_MED_INSUMO'][i])\n",
    "    print(quantity_table)\n",
    "\n",
    "    #input_amount = driver.find_element(By.CSS_SELECTOR, \".required-entry.validate-zero-or-greater.input-text.qty.input-item-qty\").clear()\n",
    "    sleep(5)\n",
    "    for c in range(quantity_table - 1):\n",
    "        try:\n",
    "            quantity_element = driver.find_element(By.CSS_SELECTOR, \".block-qty-int .altera.acrescimo\")\n",
    "            quantity_element.click()\n",
    "            sleep(5)\n",
    "        except:\n",
    "            print('amount = 0')\n",
    "        # Aguarde até que o elemento \".item-msg.error\" esteja presente ou aguarde um tempo limite de 10 segundos\n",
    "        "
   ]
  },
  {
   "cell_type": "code",
   "execution_count": 8,
   "metadata": {},
   "outputs": [],
   "source": [
    "def choose_item(driver):\n",
    "    try:\n",
    "        input_box = driver.find_elements(By.CSS_SELECTOR, \".input-box .required-entry.super-attribute-select\")\n",
    "\n",
    "        for e in input_box:\n",
    "            e.click()\n",
    "            for c in range(2):\n",
    "                e.send_keys(Keys.ARROW_DOWN)\n",
    "\n",
    "            e.click()\n",
    "    except:\n",
    "        print(\"URL SEM SELEÇÂO DE ITEM\")"
   ]
  },
  {
   "cell_type": "code",
   "execution_count": 9,
   "metadata": {},
   "outputs": [],
   "source": [
    "def return_values(driver, css_element):\n",
    "    \n",
    "    try:\n",
    "        error_elements = driver.find_element(By.CSS_SELECTOR, \".error-msg\")\n",
    "\n",
    "        if error_elements:\n",
    "            regex = None\n",
    "            print(f\"Elemento encontrado. Item fora de estoque.\\nPrice: {regex}\")\n",
    "    \n",
    "    except:\n",
    "        element_ = (\n",
    "        WebDriverWait(driver, 10)\n",
    "        .until(EC.presence_of_element_located((By.CSS_SELECTOR, css_element)))\n",
    "        .text\n",
    "    )\n",
    "        regex = re.findall(r\"\\d+\\.\\d+\", element_.replace(\",\", \".\"))[0]\n",
    "        \n",
    "    return regex"
   ]
  },
  {
   "cell_type": "code",
   "execution_count": 10,
   "metadata": {},
   "outputs": [],
   "source": [
    "import os\n",
    "def read_table(cod_informante=\"79493\") -> pd.read_csv:\n",
    "    '''Função para ler a tabela encomenda em csv.'''\n",
    "    INPUT_TABLE = r\"D:\\VSCODE_notebook\\1_Robos\\FERRAMENTAS KENNEDY_V2\\local_sheet/\"\n",
    "    ultima_encomenda = os.listdir(INPUT_TABLE)\n",
    "    ultima_encomenda = [i for i in ultima_encomenda if i.startswith(\n",
    "        'encomenda') if i.endswith('.xls')][-1]\n",
    "    tabela = pd.read_csv(INPUT_TABLE + ultima_encomenda,\n",
    "                         delimiter='\\t',\n",
    "                         encoding=\"ISO-8859-1\",\n",
    "                         dtype={'CD_INFORM': str, 'DATA_PREVISTA': str, 'NR_SEQ_INSINF': str})\n",
    "    tabela = tabela[tabela.CD_INFORM == cod_informante]\n",
    "    #tabela = tabela[tabela.CD_PERIOD == 'E246']\n",
    "    #tabela['QT_MED_INSUMO'][tabela['QT_MED_INSUMO'].isna()] = 1\n",
    "    return tabela"
   ]
  },
  {
   "cell_type": "code",
   "execution_count": null,
   "metadata": {},
   "outputs": [],
   "source": []
  },
  {
   "cell_type": "code",
   "execution_count": 11,
   "metadata": {},
   "outputs": [],
   "source": [
    "def scraper(encomenda, element_price):\n",
    "    driver = Chrome()\n",
    "    prices = []\n",
    "    for i in encomenda.index[7:]:\n",
    "        \n",
    "        try:\n",
    "            driver.start()\n",
    "            #check_cart(driver)\n",
    "            driver.get(encomenda['URL DO INSUMO'][i])\n",
    "            choose_item(driver)\n",
    "            add_cart(driver)\n",
    "            change_quantity(driver, encomenda, i)\n",
    "            sleep(1)\n",
    "            price = return_values(driver, element_price)\n",
    "            print(price)\n",
    "            sleep(1)\n",
    "        except:\n",
    "            price = None\n",
    "\n",
    "        prices.append(price)\n",
    "        print(prices)\n",
    "        driver.__exit__()\n",
    "        "
   ]
  },
  {
   "cell_type": "code",
   "execution_count": 12,
   "metadata": {},
   "outputs": [
    {
     "name": "stdout",
     "output_type": "stream",
     "text": [
      "[None]\n",
      "URL SEM SELEÇÂO DE ITEM\n",
      "Produto Indisponível\n"
     ]
    },
    {
     "name": "stdout",
     "output_type": "stream",
     "text": [
      "17\n",
      "[None, None]\n",
      "[None, None, None]\n",
      "URL SEM SELEÇÂO DE ITEM\n",
      "Produto Indisponível\n",
      "[None, None, None, None]\n",
      "URL SEM SELEÇÂO DE ITEM\n",
      "Produto Indisponível\n",
      "1\n",
      "[None, None, None, None, None]\n",
      "[None, None, None, None, None, None]\n",
      "URL SEM SELEÇÂO DE ITEM\n",
      "Produto Indisponível\n",
      "17\n",
      "[None, None, None, None, None, None, None]\n",
      "URL SEM SELEÇÂO DE ITEM\n",
      "Produto Indisponível\n"
     ]
    }
   ],
   "source": [
    "if __name__ == \"__main__\":\n",
    "    element_price = \".block-subtotal\"\n",
    "    encomenda = read_table()\n",
    "    coleta = scraper(encomenda, element_price)"
   ]
  },
  {
   "cell_type": "code",
   "execution_count": 2,
   "metadata": {},
   "outputs": [],
   "source": [
    "driver = Chrome()\n",
    "driver.start()\n",
    "\n",
    "driver.get(\"https://www.seton.com.br/sinalizador-a-led-inteligente-com-trava-anti-furto-monolight.html\")"
   ]
  },
  {
   "cell_type": "code",
   "execution_count": 3,
   "metadata": {},
   "outputs": [],
   "source": [
    "from selenium.webdriver.common.keys import Keys\n",
    "cep_input = WebDriverWait(driver, 10).until(EC.presence_of_element_located((By.CSS_SELECTOR, \".input-box #postcode\")))\n",
    "cep_input.send_keys('23071090')"
   ]
  },
  {
   "cell_type": "code",
   "execution_count": 5,
   "metadata": {},
   "outputs": [],
   "source": [
    "calculate_button = WebDriverWait(driver, 10).until(EC.element_to_be_clickable((By.CSS_SELECTOR, \".buttons-set .button\")))\n",
    "calculate_button.click()"
   ]
  },
  {
   "cell_type": "code",
   "execution_count": 82,
   "metadata": {},
   "outputs": [],
   "source": [
    "\n",
    "def get_shipping(self):\n",
    "    shipping_form = self.driver.find_elements(By.CSS_SELECTOR, \"#co-shipping-method-form\")\n",
    "    for e in shipping_form:\n",
    "        e = e.text\n",
    "        regex = re.compile(r'(PAC - .*|SEDEX - .*|PAC GF - .*)')\n",
    "        catch = list(re.findall(regex, e))[0]\n",
    "        catch = catch.split('R$')[-1]\n",
    "        \n",
    "    return catch\n",
    "\n"
   ]
  },
  {
   "cell_type": "code",
   "execution_count": 83,
   "metadata": {},
   "outputs": [
    {
     "name": "stdout",
     "output_type": "stream",
     "text": [
      "38,52\n"
     ]
    }
   ],
   "source": [
    "print(get_shipping(driver))"
   ]
  },
  {
   "cell_type": "code",
   "execution_count": null,
   "metadata": {},
   "outputs": [],
   "source": [
    "def return_values(driver, css_element):\n",
    "    \n",
    "    try:\n",
    "        error_elements = driver.find_element(By.CSS_SELECTOR, \".error-msg\")\n",
    "\n",
    "        if error_elements:\n",
    "            regex = None\n",
    "            print(f\"Elemento encontrado. Item fora de estoque.\\nPrice: {regex}\")\n",
    "    \n",
    "    except:\n",
    "        element_ = (\n",
    "        WebDriverWait(driver, 10)\n",
    "        .until(EC.presence_of_element_located((By.CSS_SELECTOR, css_element)))\n",
    "        .text\n",
    "    )\n",
    "        regex = re.findall(r\"\\d+\\.\\d+\", element_.replace(\",\", \".\"))[0]\n",
    "        \n",
    "    return regex"
   ]
  },
  {
   "cell_type": "code",
   "execution_count": null,
   "metadata": {},
   "outputs": [
    {
     "data": {
      "text/plain": [
       "'353.34'"
      ]
     },
     "execution_count": 42,
     "metadata": {},
     "output_type": "execute_result"
    }
   ],
   "source": [
    "element_price = \".block-subtotal\"\n",
    "return_values(driver,element_price )"
   ]
  }
 ],
 "metadata": {
  "kernelspec": {
   "display_name": "Python 3",
   "language": "python",
   "name": "python3"
  },
  "language_info": {
   "codemirror_mode": {
    "name": "ipython",
    "version": 3
   },
   "file_extension": ".py",
   "mimetype": "text/x-python",
   "name": "python",
   "nbconvert_exporter": "python",
   "pygments_lexer": "ipython3",
   "version": "3.11.4"
  },
  "orig_nbformat": 4
 },
 "nbformat": 4,
 "nbformat_minor": 2
}
